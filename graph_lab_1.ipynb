{
  "nbformat": 4,
  "nbformat_minor": 0,
  "metadata": {
    "colab": {
      "name": "graph_lab_1.ipynb",
      "provenance": [],
      "collapsed_sections": [],
      "authorship_tag": "ABX9TyOR0QHMphkfPtMhta+WqVxu",
      "include_colab_link": true
    },
    "kernelspec": {
      "name": "python3",
      "display_name": "Python 3"
    },
    "language_info": {
      "name": "python"
    },
    "widgets": {
      "application/vnd.jupyter.widget-state+json": {
        "47b1fb20165747b198988317fa7820d4": {
          "model_module": "@jupyter-widgets/controls",
          "model_name": "HBoxModel",
          "model_module_version": "1.5.0",
          "state": {
            "_view_name": "HBoxView",
            "_dom_classes": [],
            "_model_name": "HBoxModel",
            "_view_module": "@jupyter-widgets/controls",
            "_model_module_version": "1.5.0",
            "_view_count": null,
            "_view_module_version": "1.5.0",
            "box_style": "",
            "layout": "IPY_MODEL_0ecf476bb5c34641924e5e2699820566",
            "_model_module": "@jupyter-widgets/controls",
            "children": [
              "IPY_MODEL_e01fa73643844c2b8d9fcb6b7dbd2aa8",
              "IPY_MODEL_1caf126eb92243a499f7e814d24f8506",
              "IPY_MODEL_3f9d311f4c9049d8a56370ca27ec7048"
            ]
          }
        },
        "0ecf476bb5c34641924e5e2699820566": {
          "model_module": "@jupyter-widgets/base",
          "model_name": "LayoutModel",
          "model_module_version": "1.2.0",
          "state": {
            "_view_name": "LayoutView",
            "grid_template_rows": null,
            "right": null,
            "justify_content": null,
            "_view_module": "@jupyter-widgets/base",
            "overflow": null,
            "_model_module_version": "1.2.0",
            "_view_count": null,
            "flex_flow": null,
            "width": null,
            "min_width": null,
            "border": null,
            "align_items": null,
            "bottom": null,
            "_model_module": "@jupyter-widgets/base",
            "top": null,
            "grid_column": null,
            "overflow_y": null,
            "overflow_x": null,
            "grid_auto_flow": null,
            "grid_area": null,
            "grid_template_columns": null,
            "flex": null,
            "_model_name": "LayoutModel",
            "justify_items": null,
            "grid_row": null,
            "max_height": null,
            "align_content": null,
            "visibility": null,
            "align_self": null,
            "height": null,
            "min_height": null,
            "padding": null,
            "grid_auto_rows": null,
            "grid_gap": null,
            "max_width": null,
            "order": null,
            "_view_module_version": "1.2.0",
            "grid_template_areas": null,
            "object_position": null,
            "object_fit": null,
            "grid_auto_columns": null,
            "margin": null,
            "display": null,
            "left": null
          }
        },
        "e01fa73643844c2b8d9fcb6b7dbd2aa8": {
          "model_module": "@jupyter-widgets/controls",
          "model_name": "HTMLModel",
          "model_module_version": "1.5.0",
          "state": {
            "_view_name": "HTMLView",
            "style": "IPY_MODEL_50f89308060149959d2208d54a35ebcd",
            "_dom_classes": [],
            "description": "",
            "_model_name": "HTMLModel",
            "placeholder": "​",
            "_view_module": "@jupyter-widgets/controls",
            "_model_module_version": "1.5.0",
            "value": "Computing transition probabilities: 100%",
            "_view_count": null,
            "_view_module_version": "1.5.0",
            "description_tooltip": null,
            "_model_module": "@jupyter-widgets/controls",
            "layout": "IPY_MODEL_fb0171040bf3497faf83b179cb36144d"
          }
        },
        "1caf126eb92243a499f7e814d24f8506": {
          "model_module": "@jupyter-widgets/controls",
          "model_name": "FloatProgressModel",
          "model_module_version": "1.5.0",
          "state": {
            "_view_name": "ProgressView",
            "style": "IPY_MODEL_c728650c38fd4e63818a6671fcd1422c",
            "_dom_classes": [],
            "description": "",
            "_model_name": "FloatProgressModel",
            "bar_style": "success",
            "max": 2708,
            "_view_module": "@jupyter-widgets/controls",
            "_model_module_version": "1.5.0",
            "value": 2708,
            "_view_count": null,
            "_view_module_version": "1.5.0",
            "orientation": "horizontal",
            "min": 0,
            "description_tooltip": null,
            "_model_module": "@jupyter-widgets/controls",
            "layout": "IPY_MODEL_3b8874fbd1f14549b15b478e8770ea52"
          }
        },
        "3f9d311f4c9049d8a56370ca27ec7048": {
          "model_module": "@jupyter-widgets/controls",
          "model_name": "HTMLModel",
          "model_module_version": "1.5.0",
          "state": {
            "_view_name": "HTMLView",
            "style": "IPY_MODEL_f3ac1da7d22f4180a5df4c4233768764",
            "_dom_classes": [],
            "description": "",
            "_model_name": "HTMLModel",
            "placeholder": "​",
            "_view_module": "@jupyter-widgets/controls",
            "_model_module_version": "1.5.0",
            "value": " 2708/2708 [00:00&lt;00:00, 2687.09it/s]",
            "_view_count": null,
            "_view_module_version": "1.5.0",
            "description_tooltip": null,
            "_model_module": "@jupyter-widgets/controls",
            "layout": "IPY_MODEL_2f6fe771e53840e8b9a3d2ff3f3380fe"
          }
        },
        "50f89308060149959d2208d54a35ebcd": {
          "model_module": "@jupyter-widgets/controls",
          "model_name": "DescriptionStyleModel",
          "model_module_version": "1.5.0",
          "state": {
            "_view_name": "StyleView",
            "_model_name": "DescriptionStyleModel",
            "description_width": "",
            "_view_module": "@jupyter-widgets/base",
            "_model_module_version": "1.5.0",
            "_view_count": null,
            "_view_module_version": "1.2.0",
            "_model_module": "@jupyter-widgets/controls"
          }
        },
        "fb0171040bf3497faf83b179cb36144d": {
          "model_module": "@jupyter-widgets/base",
          "model_name": "LayoutModel",
          "model_module_version": "1.2.0",
          "state": {
            "_view_name": "LayoutView",
            "grid_template_rows": null,
            "right": null,
            "justify_content": null,
            "_view_module": "@jupyter-widgets/base",
            "overflow": null,
            "_model_module_version": "1.2.0",
            "_view_count": null,
            "flex_flow": null,
            "width": null,
            "min_width": null,
            "border": null,
            "align_items": null,
            "bottom": null,
            "_model_module": "@jupyter-widgets/base",
            "top": null,
            "grid_column": null,
            "overflow_y": null,
            "overflow_x": null,
            "grid_auto_flow": null,
            "grid_area": null,
            "grid_template_columns": null,
            "flex": null,
            "_model_name": "LayoutModel",
            "justify_items": null,
            "grid_row": null,
            "max_height": null,
            "align_content": null,
            "visibility": null,
            "align_self": null,
            "height": null,
            "min_height": null,
            "padding": null,
            "grid_auto_rows": null,
            "grid_gap": null,
            "max_width": null,
            "order": null,
            "_view_module_version": "1.2.0",
            "grid_template_areas": null,
            "object_position": null,
            "object_fit": null,
            "grid_auto_columns": null,
            "margin": null,
            "display": null,
            "left": null
          }
        },
        "c728650c38fd4e63818a6671fcd1422c": {
          "model_module": "@jupyter-widgets/controls",
          "model_name": "ProgressStyleModel",
          "model_module_version": "1.5.0",
          "state": {
            "_view_name": "StyleView",
            "_model_name": "ProgressStyleModel",
            "description_width": "",
            "_view_module": "@jupyter-widgets/base",
            "_model_module_version": "1.5.0",
            "_view_count": null,
            "_view_module_version": "1.2.0",
            "bar_color": null,
            "_model_module": "@jupyter-widgets/controls"
          }
        },
        "3b8874fbd1f14549b15b478e8770ea52": {
          "model_module": "@jupyter-widgets/base",
          "model_name": "LayoutModel",
          "model_module_version": "1.2.0",
          "state": {
            "_view_name": "LayoutView",
            "grid_template_rows": null,
            "right": null,
            "justify_content": null,
            "_view_module": "@jupyter-widgets/base",
            "overflow": null,
            "_model_module_version": "1.2.0",
            "_view_count": null,
            "flex_flow": null,
            "width": null,
            "min_width": null,
            "border": null,
            "align_items": null,
            "bottom": null,
            "_model_module": "@jupyter-widgets/base",
            "top": null,
            "grid_column": null,
            "overflow_y": null,
            "overflow_x": null,
            "grid_auto_flow": null,
            "grid_area": null,
            "grid_template_columns": null,
            "flex": null,
            "_model_name": "LayoutModel",
            "justify_items": null,
            "grid_row": null,
            "max_height": null,
            "align_content": null,
            "visibility": null,
            "align_self": null,
            "height": null,
            "min_height": null,
            "padding": null,
            "grid_auto_rows": null,
            "grid_gap": null,
            "max_width": null,
            "order": null,
            "_view_module_version": "1.2.0",
            "grid_template_areas": null,
            "object_position": null,
            "object_fit": null,
            "grid_auto_columns": null,
            "margin": null,
            "display": null,
            "left": null
          }
        },
        "f3ac1da7d22f4180a5df4c4233768764": {
          "model_module": "@jupyter-widgets/controls",
          "model_name": "DescriptionStyleModel",
          "model_module_version": "1.5.0",
          "state": {
            "_view_name": "StyleView",
            "_model_name": "DescriptionStyleModel",
            "description_width": "",
            "_view_module": "@jupyter-widgets/base",
            "_model_module_version": "1.5.0",
            "_view_count": null,
            "_view_module_version": "1.2.0",
            "_model_module": "@jupyter-widgets/controls"
          }
        },
        "2f6fe771e53840e8b9a3d2ff3f3380fe": {
          "model_module": "@jupyter-widgets/base",
          "model_name": "LayoutModel",
          "model_module_version": "1.2.0",
          "state": {
            "_view_name": "LayoutView",
            "grid_template_rows": null,
            "right": null,
            "justify_content": null,
            "_view_module": "@jupyter-widgets/base",
            "overflow": null,
            "_model_module_version": "1.2.0",
            "_view_count": null,
            "flex_flow": null,
            "width": null,
            "min_width": null,
            "border": null,
            "align_items": null,
            "bottom": null,
            "_model_module": "@jupyter-widgets/base",
            "top": null,
            "grid_column": null,
            "overflow_y": null,
            "overflow_x": null,
            "grid_auto_flow": null,
            "grid_area": null,
            "grid_template_columns": null,
            "flex": null,
            "_model_name": "LayoutModel",
            "justify_items": null,
            "grid_row": null,
            "max_height": null,
            "align_content": null,
            "visibility": null,
            "align_self": null,
            "height": null,
            "min_height": null,
            "padding": null,
            "grid_auto_rows": null,
            "grid_gap": null,
            "max_width": null,
            "order": null,
            "_view_module_version": "1.2.0",
            "grid_template_areas": null,
            "object_position": null,
            "object_fit": null,
            "grid_auto_columns": null,
            "margin": null,
            "display": null,
            "left": null
          }
        }
      }
    }
  },
  "cells": [
    {
      "cell_type": "markdown",
      "metadata": {
        "id": "view-in-github",
        "colab_type": "text"
      },
      "source": [
        "<a href=\"https://colab.research.google.com/github/kprokofi/graph_networks_analysis/blob/main/graph_lab_1.ipynb\" target=\"_parent\"><img src=\"https://colab.research.google.com/assets/colab-badge.svg\" alt=\"Open In Colab\"/></a>"
      ]
    },
    {
      "cell_type": "markdown",
      "metadata": {
        "id": "yQznshCaAKUA"
      },
      "source": [
        "# Crafting features for Cora dataset"
      ]
    },
    {
      "cell_type": "markdown",
      "metadata": {
        "id": "58hEPD9JAV8G"
      },
      "source": [
        "In this labaratory work we will need to explore tools how to classify graph nodes. We will not use GCN or GAN to solve this problem, instead we will manualy extract some useful features from graph and will try to beat baseline! "
      ]
    },
    {
      "cell_type": "code",
      "metadata": {
        "id": "d9VN7EAB5GGO"
      },
      "source": [
        "!pip install spektral==0.6.1\n",
        "!pip install node2vec"
      ],
      "execution_count": null,
      "outputs": []
    },
    {
      "cell_type": "code",
      "metadata": {
        "id": "44ze-aoHjHH7"
      },
      "source": [
        "import pandas as pd\n",
        "import networkx as nx\n",
        "from networkx.algorithms.shortest_paths.generic import shortest_path\n",
        "import spektral\n",
        "from sklearn.metrics import classification_report\n",
        "from sklearn.ensemble import RandomForestClassifier\n",
        "from sklearn.ensemble import GradientBoostingClassifier\n",
        "from sklearn.model_selection import cross_val_score\n",
        "from sklearn.neural_network import MLPClassifier\n",
        "from node2vec import Node2Vec\n"
      ],
      "execution_count": null,
      "outputs": []
    },
    {
      "cell_type": "code",
      "metadata": {
        "colab": {
          "base_uri": "https://localhost:8080/"
        },
        "id": "MkQ22P87nyVS",
        "outputId": "ba8840cf-1581-45f6-a7ec-7a9c619cbf21"
      },
      "source": [
        "adjancy, features, labels, train_mask, val_mask, test_mask = spektral.datasets.citation.load_data(dataset_name='cora')"
      ],
      "execution_count": null,
      "outputs": [
        {
          "output_type": "stream",
          "name": "stdout",
          "text": [
            "Loading cora dataset\n",
            "Pre-processing node features\n"
          ]
        }
      ]
    },
    {
      "cell_type": "code",
      "metadata": {
        "colab": {
          "base_uri": "https://localhost:8080/"
        },
        "id": "0lWVXA9foKRL",
        "outputId": "9dbe7c41-ca0d-4371-ac1d-e93cc772273c"
      },
      "source": [
        "features = features.todense().astype('float32')\n",
        "adjancy = (adjancy.todense() + np.eye(adjancy.shape[0])).astype('float32')\n",
        "features"
      ],
      "execution_count": null,
      "outputs": [
        {
          "output_type": "execute_result",
          "data": {
            "text/plain": [
              "matrix([[0., 0., 0., ..., 0., 0., 0.],\n",
              "        [0., 0., 0., ..., 0., 0., 0.],\n",
              "        [0., 0., 0., ..., 0., 0., 0.],\n",
              "        ...,\n",
              "        [0., 0., 0., ..., 0., 0., 0.],\n",
              "        [0., 0., 0., ..., 0., 0., 0.],\n",
              "        [0., 0., 0., ..., 0., 0., 0.]], dtype=float32)"
            ]
          },
          "metadata": {},
          "execution_count": 202
        }
      ]
    },
    {
      "cell_type": "code",
      "metadata": {
        "colab": {
          "base_uri": "https://localhost:8080/"
        },
        "id": "8PMeygWAofNv",
        "outputId": "30f4338f-b8ea-4ebb-b4c8-0001cae1925d"
      },
      "source": [
        "print(np.sum(train_mask))\n",
        "print(np.sum(val_mask))\n",
        "print(np.sum(test_mask))"
      ],
      "execution_count": null,
      "outputs": [
        {
          "output_type": "stream",
          "name": "stdout",
          "text": [
            "140\n",
            "500\n",
            "1000\n"
          ]
        }
      ]
    },
    {
      "cell_type": "code",
      "metadata": {
        "id": "pWUDICZUsU6y"
      },
      "source": [
        ""
      ],
      "execution_count": null,
      "outputs": []
    },
    {
      "cell_type": "markdown",
      "metadata": {
        "id": "8JKNtWpFOwoc"
      },
      "source": [
        "## Features engineering"
      ]
    },
    {
      "cell_type": "markdown",
      "metadata": {
        "id": "SEoZlIlkOyoA"
      },
      "source": [
        "### Shortest paths from each node to each (dijkstra)"
      ]
    },
    {
      "cell_type": "code",
      "metadata": {
        "id": "P5P1PPr7pSC4"
      },
      "source": [
        "G = nx.convert_matrix.from_numpy_matrix(adjancy)"
      ],
      "execution_count": null,
      "outputs": []
    },
    {
      "cell_type": "code",
      "metadata": {
        "id": "l3yjw-FVsFcC"
      },
      "source": [
        "paths = shortest_path(G)"
      ],
      "execution_count": null,
      "outputs": []
    },
    {
      "cell_type": "code",
      "metadata": {
        "id": "E1Gr79rUsLjY"
      },
      "source": [
        "\n",
        "pcc_longueurs=list(nx.all_pairs_shortest_path_length(G))"
      ],
      "execution_count": null,
      "outputs": []
    },
    {
      "cell_type": "code",
      "metadata": {
        "id": "cudoC3X_8fSb"
      },
      "source": [
        "n = G.number_of_nodes()"
      ],
      "execution_count": null,
      "outputs": []
    },
    {
      "cell_type": "code",
      "metadata": {
        "id": "EM3-8VbcFM9G"
      },
      "source": [
        "length = dict(nx.all_pairs_shortest_path_length(G))"
      ],
      "execution_count": null,
      "outputs": []
    },
    {
      "cell_type": "code",
      "metadata": {
        "id": "_bRjK5l8tzpY"
      },
      "source": [
        "distances=np.zeros((n,n))# distances[i, j] is the length of the shortest path between i and j\n",
        "for i in range(n):\n",
        "    for j in range(n):\n",
        "        if i == j:\n",
        "            distances[i, j] = 1\n",
        "        elif j not in length[i]:\n",
        "            distances[i, j] = 0 # mark unreachable nodes with 0\n",
        "        else:\n",
        "            distances[i, j] = length[i][j] + 1"
      ],
      "execution_count": null,
      "outputs": []
    },
    {
      "cell_type": "code",
      "metadata": {
        "colab": {
          "base_uri": "https://localhost:8080/"
        },
        "id": "xkLRiqo_Bf55",
        "outputId": "9a59d18d-70d6-4c17-9a70-634a270fc052"
      },
      "source": [
        "distances.shape"
      ],
      "execution_count": null,
      "outputs": [
        {
          "output_type": "execute_result",
          "data": {
            "text/plain": [
              "(2708, 2708)"
            ]
          },
          "metadata": {},
          "execution_count": 173
        }
      ]
    },
    {
      "cell_type": "markdown",
      "metadata": {
        "id": "brr7pTthPBBa"
      },
      "source": [
        "### Pagerank vector"
      ]
    },
    {
      "cell_type": "code",
      "metadata": {
        "id": "ceuCfxEkK2sB"
      },
      "source": [
        "pg = np.array(list(nx.pagerank(G, alpha=0.9).values()))"
      ],
      "execution_count": null,
      "outputs": []
    },
    {
      "cell_type": "markdown",
      "metadata": {
        "id": "iC7YxLDsPKjp"
      },
      "source": [
        "### Degree of centrality"
      ]
    },
    {
      "cell_type": "code",
      "metadata": {
        "id": "A0XBRaicPIgr"
      },
      "source": [
        "c_degree = np.array(list(nx.degree_centrality(G).values()))\n",
        "c_eigenvector = np.array(list(nx.eigenvector_centrality(G).values()))\n",
        "c_closeness = np.array(list(nx.closeness_centrality(G).values()))\n",
        "c_betweenness = np.array(list(nx.betweenness_centrality(G).values()))"
      ],
      "execution_count": null,
      "outputs": []
    },
    {
      "cell_type": "code",
      "metadata": {
        "id": "AdbBiWm-WIaP"
      },
      "source": [
        "centrality = np.concatenate([pg.reshape(-1,1), c_eigenvector.reshape(-1,1), c_closeness.reshape(-1,1), c_betweenness.reshape(-1,1)], axis=1)"
      ],
      "execution_count": null,
      "outputs": []
    },
    {
      "cell_type": "code",
      "metadata": {
        "colab": {
          "base_uri": "https://localhost:8080/"
        },
        "id": "hZVF7dbxbdjA",
        "outputId": "9d9eb35b-b62b-4b8f-f2d6-c3235e8c1742"
      },
      "source": [
        "centrality.shape"
      ],
      "execution_count": null,
      "outputs": [
        {
          "output_type": "execute_result",
          "data": {
            "text/plain": [
              "(2708, 4)"
            ]
          },
          "metadata": {},
          "execution_count": 276
        }
      ]
    },
    {
      "cell_type": "markdown",
      "metadata": {
        "id": "trknmWfWVYxz"
      },
      "source": [
        "### Prepare train test val datasets"
      ]
    },
    {
      "cell_type": "code",
      "metadata": {
        "id": "q6G9CB2ZPoj6"
      },
      "source": [
        "# train/val/test data\n",
        "x_train_cora_features = features[train_mask]\n",
        "x_train_manual = np.concatenate([distances[train_mask], centrality[train_mask]],axis=1)\n",
        "x_test_cora_features = features[test_mask]\n",
        "x_test_manual =  np.concatenate([distances[test_mask], centrality[test_mask]],axis=1)\n",
        "x_val_cora_features = features[val_mask]\n",
        "x_val_manual = np.concatenate([distances[val_mask], centrality[val_mask]],axis=1)\n",
        "# train/val/test labels\n",
        "y_train = labels[train_mask]\n",
        "y_test = labels[test_mask]\n",
        "y_val = labels[val_mask]"
      ],
      "execution_count": null,
      "outputs": []
    },
    {
      "cell_type": "code",
      "metadata": {
        "id": "Fvx7SRgURJSo"
      },
      "source": [
        "# concat it\n",
        "x_train = np.concatenate([x_train_cora_features, x_train_manual], axis=1)\n",
        "x_test = np.concatenate([x_test_cora_features, x_test_emb], axis=1)\n",
        "x_val = np.concatenate([x_val_cora_features, x_val_emb], axis=1)"
      ],
      "execution_count": null,
      "outputs": []
    },
    {
      "cell_type": "code",
      "metadata": {
        "id": "FtPSHE_IaWKG"
      },
      "source": [
        "# keep it for CV validation\n",
        "X_all = np.concatenate([x_train, x_val], axis=0)\n",
        "y_all = np.concatenate([y_train, y_val], axis=0)"
      ],
      "execution_count": null,
      "outputs": []
    },
    {
      "cell_type": "markdown",
      "metadata": {
        "id": "7RnPBrjDxzwg"
      },
      "source": [
        "### Random forest and XGBoost models"
      ]
    },
    {
      "cell_type": "markdown",
      "metadata": {
        "id": "0fKc-nNH1ygV"
      },
      "source": [
        "First of all lets validate baseline model. We will use only predifined from the dataset features"
      ]
    },
    {
      "cell_type": "code",
      "metadata": {
        "colab": {
          "base_uri": "https://localhost:8080/"
        },
        "id": "ZdLQ1_pr19uS",
        "outputId": "98bf9443-a0c4-4cf5-fa4f-e99a0e62bf6d"
      },
      "source": [
        "xg_baseline = GradientBoostingClassifier(n_estimators=100, learning_rate=0.1, max_depth=3, random_state=5)\n",
        "xg_baseline.fit(features[train_mask], np.argmax(y_train, axis=1)) # features from cora only\n",
        "\n",
        "pred = xg_baseline.predict(features[test_mask])\n",
        "report = classification_report(y_true=np.argmax(y_test, axis=1), y_pred=pred)\n",
        "print(report)"
      ],
      "execution_count": null,
      "outputs": [
        {
          "output_type": "stream",
          "name": "stdout",
          "text": [
            "              precision    recall  f1-score   support\n",
            "\n",
            "           0       0.28      0.50      0.36       130\n",
            "           1       0.55      0.67      0.61        91\n",
            "           2       0.82      0.68      0.74       144\n",
            "           3       0.71      0.47      0.57       319\n",
            "           4       0.50      0.47      0.48       149\n",
            "           5       0.48      0.50      0.49       103\n",
            "           6       0.48      0.56      0.52        64\n",
            "\n",
            "    accuracy                           0.53      1000\n",
            "   macro avg       0.54      0.55      0.54      1000\n",
            "weighted avg       0.59      0.53      0.54      1000\n",
            "\n"
          ]
        }
      ]
    },
    {
      "cell_type": "markdown",
      "metadata": {
        "id": "b6HrRHjF4HyA"
      },
      "source": [
        "Keep in mind: 53% on test for baseline\n",
        "\n",
        "Now, let's use our manual features, tune and validate few algorithms\n",
        "\n"
      ]
    },
    {
      "cell_type": "code",
      "metadata": {
        "colab": {
          "base_uri": "https://localhost:8080/"
        },
        "id": "WGMJxS1ixyul",
        "outputId": "9f842903-90ef-4f1e-c582-d5999edf3cb8"
      },
      "source": [
        "# Random Forest\n",
        "RT = RandomForestClassifier(max_depth=50, n_estimators=40, random_state=5)\n",
        "RT.fit(x_train, np.argmax(y_train, axis=1))\n",
        "\n",
        "pred = RT.predict(x_test)\n",
        "report = classification_report(y_true=np.argmax(y_test, axis=1), y_pred=pred)\n",
        "print(report)"
      ],
      "execution_count": null,
      "outputs": [
        {
          "output_type": "stream",
          "name": "stdout",
          "text": [
            "              precision    recall  f1-score   support\n",
            "\n",
            "           0       0.60      0.66      0.63       130\n",
            "           1       0.73      0.78      0.76        91\n",
            "           2       0.73      0.90      0.81       144\n",
            "           3       0.88      0.43      0.58       319\n",
            "           4       0.55      0.84      0.66       149\n",
            "           5       0.64      0.68      0.66       103\n",
            "           6       0.43      0.59      0.50        64\n",
            "\n",
            "    accuracy                           0.66      1000\n",
            "   macro avg       0.65      0.70      0.66      1000\n",
            "weighted avg       0.71      0.66      0.65      1000\n",
            "\n"
          ]
        }
      ]
    },
    {
      "cell_type": "code",
      "metadata": {
        "colab": {
          "base_uri": "https://localhost:8080/"
        },
        "id": "jXOcILU7P49Q",
        "outputId": "ba8c8cf2-532f-4534-f1a7-f9d6ebc54f61"
      },
      "source": [
        "# Gradient Boosting\n",
        "xg = GradientBoostingClassifier(n_estimators=100, learning_rate=0.1, max_depth=5, random_state=5)\n",
        "xg.fit(x_train, np.argmax(y_train, axis=1))\n",
        "\n",
        "pred = xg.predict(x_test)\n",
        "report = classification_report(y_true=np.argmax(y_test, axis=1), y_pred=pred)\n",
        "print(report)"
      ],
      "execution_count": null,
      "outputs": [
        {
          "output_type": "stream",
          "name": "stdout",
          "text": [
            "              precision    recall  f1-score   support\n",
            "\n",
            "           0       0.73      0.60      0.66       130\n",
            "           1       0.65      0.80      0.72        91\n",
            "           2       0.84      0.85      0.84       144\n",
            "           3       0.77      0.61      0.68       319\n",
            "           4       0.59      0.50      0.54       149\n",
            "           5       0.48      0.74      0.58       103\n",
            "           6       0.45      0.67      0.54        64\n",
            "\n",
            "    accuracy                           0.66      1000\n",
            "   macro avg       0.64      0.68      0.65      1000\n",
            "weighted avg       0.69      0.66      0.66      1000\n",
            "\n"
          ]
        }
      ]
    },
    {
      "cell_type": "markdown",
      "metadata": {
        "id": "TBVgjVZh4SXd"
      },
      "source": [
        "66% for both models using our manual features together with cora predefined. Let's now do a cross validation "
      ]
    },
    {
      "cell_type": "markdown",
      "metadata": {
        "id": "THwqsGORhNIW"
      },
      "source": [
        "### Cross Validation Score"
      ]
    },
    {
      "cell_type": "code",
      "metadata": {
        "id": "OVCMjv2mZwYV"
      },
      "source": [
        "# WARNING! the code will be executed for about 10-15 minutes\n",
        "scores = cross_val_score(xg, X_all, np.argmax(y_all, axis=1), cv=5)"
      ],
      "execution_count": null,
      "outputs": []
    },
    {
      "cell_type": "code",
      "metadata": {
        "colab": {
          "base_uri": "https://localhost:8080/"
        },
        "id": "1VsHdAfYcIhm",
        "outputId": "27b1830e-77bc-4a9c-da4a-e9b45eac299a"
      },
      "source": [
        "np.mean(scores)"
      ],
      "execution_count": null,
      "outputs": [
        {
          "output_type": "execute_result",
          "data": {
            "text/plain": [
              "0.7796875"
            ]
          },
          "metadata": {},
          "execution_count": 298
        }
      ]
    },
    {
      "cell_type": "markdown",
      "metadata": {
        "id": "YlQ-uCWIjQ-D"
      },
      "source": [
        "78% accuracy on Cross validation for XGboost"
      ]
    },
    {
      "cell_type": "code",
      "metadata": {
        "colab": {
          "base_uri": "https://localhost:8080/"
        },
        "id": "7N8GAGK1zagw",
        "outputId": "de372160-1067-45f2-84ea-fe1f27db325f"
      },
      "source": [
        "scores = cross_val_score(RT, X_all, np.argmax(y_all, axis=1), cv=5)\n",
        "np.mean(scores)"
      ],
      "execution_count": null,
      "outputs": [
        {
          "output_type": "execute_result",
          "data": {
            "text/plain": [
              "0.725"
            ]
          },
          "metadata": {},
          "execution_count": 359
        }
      ]
    },
    {
      "cell_type": "markdown",
      "metadata": {
        "id": "7RUb49caz7q0"
      },
      "source": [
        "72.5% for Random Forest that means worse generelezation than XGBoost"
      ]
    },
    {
      "cell_type": "markdown",
      "metadata": {
        "id": "jDHsMpAFhpKs"
      },
      "source": [
        "### MLP network"
      ]
    },
    {
      "cell_type": "code",
      "metadata": {
        "colab": {
          "base_uri": "https://localhost:8080/"
        },
        "id": "gH3ns7acVjrv",
        "outputId": "f5632fa5-3e4c-4dd0-e726-f1f6bf42e0b8"
      },
      "source": [
        "mlp = MLPClassifier(hidden_layer_sizes=(x_train.shape[1], int(x_train.shape[1]/2), y_train.shape[1]), \n",
        "                                     activation='relu', solver='adam', alpha=1e-4, batch_size=140, \n",
        "                                     learning_rate='invscaling', learning_rate_init=0.001, verbose=True, max_iter=200)\n",
        "mlp.fit(x_train, np.argmax(y_train, 1))"
      ],
      "execution_count": null,
      "outputs": [
        {
          "output_type": "stream",
          "name": "stdout",
          "text": [
            "Iteration 1, loss = 3.83216524\n",
            "Iteration 2, loss = 89.63385662\n",
            "Iteration 3, loss = 1.87636549\n",
            "Iteration 4, loss = 1.85924468\n",
            "Iteration 5, loss = 1.84795299\n",
            "Iteration 6, loss = 1.84039631\n",
            "Iteration 7, loss = 1.83494166\n",
            "Iteration 8, loss = 1.83146586\n",
            "Iteration 9, loss = 1.82787417\n",
            "Iteration 10, loss = 2.12665754\n",
            "Iteration 11, loss = 1.82425181\n",
            "Iteration 12, loss = 1.82195027\n",
            "Iteration 13, loss = 1.82009964\n",
            "Iteration 14, loss = 1.81857727\n",
            "Iteration 15, loss = 1.81705284\n",
            "Iteration 16, loss = 1.81610918\n",
            "Iteration 17, loss = 1.81517063\n",
            "Iteration 18, loss = 1.81376032\n",
            "Iteration 19, loss = 1.81263194\n",
            "Iteration 20, loss = 1.81160755\n",
            "Iteration 21, loss = 1.81109891\n",
            "Iteration 22, loss = 1.80983572\n",
            "Iteration 23, loss = 1.80817850\n",
            "Iteration 24, loss = 1.80600538\n",
            "Iteration 25, loss = 1.80354912\n",
            "Iteration 26, loss = 1.80391923\n",
            "Iteration 27, loss = 1.80326635\n",
            "Iteration 28, loss = 1.80298262\n",
            "Iteration 29, loss = 1.80263013\n",
            "Iteration 30, loss = 1.80208124\n",
            "Iteration 31, loss = 1.80147623\n",
            "Iteration 32, loss = 1.80106107\n",
            "Iteration 33, loss = 1.80079018\n",
            "Iteration 34, loss = 1.80038825\n",
            "Iteration 35, loss = 1.79992355\n",
            "Iteration 36, loss = 1.79958869\n",
            "Iteration 37, loss = 1.79932087\n",
            "Iteration 38, loss = 1.79898494\n",
            "Iteration 39, loss = 1.79859969\n",
            "Iteration 40, loss = 1.79828268\n",
            "Iteration 41, loss = 1.79805348\n",
            "Iteration 42, loss = 1.79775975\n",
            "Iteration 43, loss = 1.79734407\n",
            "Iteration 44, loss = 1.79693116\n",
            "Iteration 45, loss = 1.79658324\n",
            "Iteration 46, loss = 1.79624499\n",
            "Iteration 47, loss = 1.79587486\n",
            "Iteration 48, loss = 1.79549925\n",
            "Iteration 49, loss = 1.79514930\n",
            "Iteration 50, loss = 1.79480067\n",
            "Iteration 51, loss = 1.79442695\n",
            "Iteration 52, loss = 1.79406159\n",
            "Iteration 53, loss = 1.79373176\n",
            "Iteration 54, loss = 1.79340992\n",
            "Iteration 55, loss = 1.79306558\n",
            "Iteration 56, loss = 1.79270187\n",
            "Iteration 57, loss = 1.79234163\n",
            "Iteration 58, loss = 1.79199171\n",
            "Iteration 59, loss = 1.79164235\n",
            "Iteration 60, loss = 1.79128929\n",
            "Iteration 61, loss = 1.79093384\n",
            "Iteration 62, loss = 1.79057751\n",
            "Iteration 63, loss = 1.79021647\n",
            "Iteration 64, loss = 1.78985105\n",
            "Iteration 65, loss = 1.78948556\n",
            "Iteration 66, loss = 1.78912261\n",
            "Iteration 67, loss = 1.78875712\n",
            "Iteration 68, loss = 1.78838652\n",
            "Iteration 69, loss = 1.78801588\n",
            "Iteration 70, loss = 1.78764835\n",
            "Iteration 71, loss = 1.78727905\n",
            "Iteration 72, loss = 1.78690665\n",
            "Iteration 73, loss = 1.78653323\n",
            "Iteration 74, loss = 1.78615718\n",
            "Iteration 75, loss = 1.78577848\n",
            "Iteration 76, loss = 1.78539799\n",
            "Iteration 77, loss = 1.78501459\n",
            "Iteration 78, loss = 1.78462828\n",
            "Iteration 79, loss = 1.78424022\n",
            "Iteration 80, loss = 1.78384950\n",
            "Iteration 81, loss = 1.78345533\n",
            "Iteration 82, loss = 1.78305836\n",
            "Iteration 83, loss = 1.78265855\n",
            "Iteration 84, loss = 1.78225613\n",
            "Iteration 85, loss = 1.78184937\n",
            "Iteration 86, loss = 1.78143863\n",
            "Iteration 87, loss = 1.78102377\n",
            "Iteration 88, loss = 1.78060471\n",
            "Iteration 89, loss = 1.78018080\n",
            "Iteration 90, loss = 1.77975163\n",
            "Iteration 91, loss = 1.77931686\n",
            "Iteration 92, loss = 1.77887581\n",
            "Iteration 93, loss = 1.77842789\n",
            "Iteration 94, loss = 1.77797241\n",
            "Iteration 95, loss = 1.77750843\n",
            "Iteration 96, loss = 1.77703494\n",
            "Iteration 97, loss = 1.77655071\n",
            "Iteration 98, loss = 1.77605424\n",
            "Iteration 99, loss = 1.77554343\n",
            "Iteration 100, loss = 1.77501566\n",
            "Iteration 101, loss = 1.77446786\n",
            "Iteration 102, loss = 1.77389584\n",
            "Iteration 103, loss = 1.77329463\n",
            "Iteration 104, loss = 1.77349939\n",
            "Iteration 105, loss = 1.77206055\n",
            "Iteration 106, loss = 1.77148049\n",
            "Iteration 107, loss = 1.77086306\n",
            "Iteration 108, loss = 1.77015475\n",
            "Iteration 109, loss = 1.76946655\n",
            "Iteration 110, loss = 1.76843638\n",
            "Iteration 111, loss = 1.76757808\n",
            "Iteration 112, loss = 1.76649243\n",
            "Iteration 113, loss = 1.76585076\n",
            "Iteration 114, loss = 1.76400783\n",
            "Iteration 115, loss = 1.76259907\n",
            "Iteration 116, loss = 1.76108531\n",
            "Iteration 117, loss = 1.75926963\n",
            "Iteration 118, loss = 1.75713315\n",
            "Iteration 119, loss = 1.75483295\n",
            "Iteration 120, loss = 1.75249768\n",
            "Iteration 121, loss = 1.74990598\n",
            "Iteration 122, loss = 1.74616432\n",
            "Iteration 123, loss = 1.74420564\n",
            "Iteration 124, loss = 1.74298772\n",
            "Iteration 125, loss = 1.74277682\n",
            "Iteration 126, loss = 1.74094747\n",
            "Iteration 127, loss = 1.74045295\n",
            "Iteration 128, loss = 1.73978981\n",
            "Iteration 129, loss = 1.73904744\n",
            "Iteration 130, loss = 1.73853127\n",
            "Iteration 131, loss = 1.73826474\n",
            "Iteration 132, loss = 1.73811963\n",
            "Iteration 133, loss = 1.73797503\n",
            "Iteration 134, loss = 1.73776822\n",
            "Iteration 135, loss = 1.73750342\n",
            "Iteration 136, loss = 1.73722763\n",
            "Iteration 137, loss = 1.73699596\n",
            "Iteration 138, loss = 1.73683722\n",
            "Iteration 139, loss = 1.73672301\n",
            "Iteration 140, loss = 1.73659523\n",
            "Iteration 141, loss = 1.73642880\n",
            "Iteration 142, loss = 1.73624757\n",
            "Iteration 143, loss = 1.73608378\n",
            "Iteration 144, loss = 1.73594178\n",
            "Iteration 145, loss = 1.73580487\n",
            "Iteration 146, loss = 1.73565910\n",
            "Iteration 147, loss = 1.73550602\n",
            "Iteration 148, loss = 1.73535688\n",
            "Iteration 149, loss = 1.73521905\n",
            "Iteration 150, loss = 1.73508794\n",
            "Iteration 151, loss = 1.73495209\n",
            "Iteration 152, loss = 1.73480592\n",
            "Iteration 153, loss = 1.73465553\n",
            "Iteration 154, loss = 1.73451211\n",
            "Iteration 155, loss = 1.73438015\n",
            "Iteration 156, loss = 1.73425336\n",
            "Iteration 157, loss = 1.73412221\n",
            "Iteration 158, loss = 1.73398374\n",
            "Iteration 159, loss = 1.73384258\n",
            "Iteration 160, loss = 1.73370479\n",
            "Iteration 161, loss = 1.73357222\n",
            "Iteration 162, loss = 1.73344214\n",
            "Iteration 163, loss = 1.73331117\n",
            "Iteration 164, loss = 1.73317896\n",
            "Iteration 165, loss = 1.73304714\n",
            "Iteration 166, loss = 1.73291618\n",
            "Iteration 167, loss = 1.73278566\n",
            "Iteration 168, loss = 1.73265520\n",
            "Iteration 169, loss = 1.73252539\n",
            "Iteration 170, loss = 1.73239700\n",
            "Iteration 171, loss = 1.73226994\n",
            "Iteration 172, loss = 1.73214276\n",
            "Iteration 173, loss = 1.73201493\n",
            "Iteration 174, loss = 1.73188711\n",
            "Iteration 175, loss = 1.73176048\n",
            "Iteration 176, loss = 1.73163529\n",
            "Iteration 177, loss = 1.73151068\n",
            "Iteration 178, loss = 1.73138591\n",
            "Iteration 179, loss = 1.73126111\n",
            "Iteration 180, loss = 1.73113691\n",
            "Iteration 181, loss = 1.73101359\n",
            "Iteration 182, loss = 1.73089082\n",
            "Iteration 183, loss = 1.73076834\n",
            "Iteration 184, loss = 1.73064629\n",
            "Iteration 185, loss = 1.73052486\n",
            "Iteration 186, loss = 1.73040378\n",
            "Iteration 187, loss = 1.73028297\n",
            "Iteration 188, loss = 1.73016276\n",
            "Iteration 189, loss = 1.73004321\n",
            "Iteration 190, loss = 1.72992399\n",
            "Iteration 191, loss = 1.72980510\n",
            "Iteration 192, loss = 1.72968674\n",
            "Iteration 193, loss = 1.72956882\n",
            "Iteration 194, loss = 1.72945135\n",
            "Iteration 195, loss = 1.72933441\n",
            "Iteration 196, loss = 1.72921785\n",
            "Iteration 197, loss = 1.72910168\n",
            "Iteration 198, loss = 1.72898601\n",
            "Iteration 199, loss = 1.72887082\n",
            "Iteration 200, loss = 1.72875603\n"
          ]
        },
        {
          "output_type": "stream",
          "name": "stderr",
          "text": [
            "/usr/local/lib/python3.7/dist-packages/sklearn/neural_network/_multilayer_perceptron.py:571: ConvergenceWarning: Stochastic Optimizer: Maximum iterations (200) reached and the optimization hasn't converged yet.\n",
            "  % self.max_iter, ConvergenceWarning)\n"
          ]
        },
        {
          "output_type": "execute_result",
          "data": {
            "text/plain": [
              "MLPClassifier(activation='relu', alpha=0.0001, batch_size=140, beta_1=0.9,\n",
              "              beta_2=0.999, early_stopping=False, epsilon=1e-08,\n",
              "              hidden_layer_sizes=(4145, 2072, 7), learning_rate='invscaling',\n",
              "              learning_rate_init=0.001, max_fun=15000, max_iter=200,\n",
              "              momentum=0.9, n_iter_no_change=10, nesterovs_momentum=True,\n",
              "              power_t=0.5, random_state=None, shuffle=True, solver='adam',\n",
              "              tol=0.0001, validation_fraction=0.1, verbose=True,\n",
              "              warm_start=False)"
            ]
          },
          "metadata": {},
          "execution_count": 414
        }
      ]
    },
    {
      "cell_type": "code",
      "metadata": {
        "colab": {
          "base_uri": "https://localhost:8080/"
        },
        "id": "QJ0Wv36Qjgin",
        "outputId": "92c86a60-571a-4b0c-9a2b-bcc28f3b725c"
      },
      "source": [
        "mlp_pred = mlp.predict(x_test)\n",
        "report = classification_report(y_true=np.argmax(y_test, axis=1), y_pred=mlp_pred)\n",
        "print(report)"
      ],
      "execution_count": null,
      "outputs": [
        {
          "output_type": "stream",
          "name": "stdout",
          "text": [
            "              precision    recall  f1-score   support\n",
            "\n",
            "           0       0.14      0.98      0.24       130\n",
            "           1       0.00      0.00      0.00        91\n",
            "           2       0.00      0.00      0.00       144\n",
            "           3       0.00      0.00      0.00       319\n",
            "           4       0.28      0.13      0.18       149\n",
            "           5       0.50      0.01      0.02       103\n",
            "           6       0.88      0.22      0.35        64\n",
            "\n",
            "    accuracy                           0.16      1000\n",
            "   macro avg       0.26      0.19      0.11      1000\n",
            "weighted avg       0.17      0.16      0.08      1000\n",
            "\n"
          ]
        },
        {
          "output_type": "stream",
          "name": "stderr",
          "text": [
            "/usr/local/lib/python3.7/dist-packages/sklearn/metrics/_classification.py:1272: UndefinedMetricWarning: Precision and F-score are ill-defined and being set to 0.0 in labels with no predicted samples. Use `zero_division` parameter to control this behavior.\n",
            "  _warn_prf(average, modifier, msg_start, len(result))\n"
          ]
        }
      ]
    },
    {
      "cell_type": "markdown",
      "metadata": {
        "id": "iMoxTE0W32qb"
      },
      "source": [
        "Some bad result! Tried to play with hidden nodes, lr, wd, but the result wasn't better than 17%"
      ]
    },
    {
      "cell_type": "markdown",
      "metadata": {
        "id": "i_TNdxQxkwj8"
      },
      "source": [
        "### Try NodeToVec"
      ]
    },
    {
      "cell_type": "code",
      "metadata": {
        "colab": {
          "base_uri": "https://localhost:8080/",
          "height": 66,
          "referenced_widgets": [
            "47b1fb20165747b198988317fa7820d4",
            "0ecf476bb5c34641924e5e2699820566",
            "e01fa73643844c2b8d9fcb6b7dbd2aa8",
            "1caf126eb92243a499f7e814d24f8506",
            "3f9d311f4c9049d8a56370ca27ec7048",
            "50f89308060149959d2208d54a35ebcd",
            "fb0171040bf3497faf83b179cb36144d",
            "c728650c38fd4e63818a6671fcd1422c",
            "3b8874fbd1f14549b15b478e8770ea52",
            "f3ac1da7d22f4180a5df4c4233768764",
            "2f6fe771e53840e8b9a3d2ff3f3380fe"
          ]
        },
        "id": "ZShG5ucPkyvN",
        "outputId": "2c67b77e-6b9c-4d67-a95d-84ffeac7a7bb"
      },
      "source": [
        "node2vec = Node2Vec(G, dimensions=100, walk_length=16, num_walks=100)\n",
        "model = node2vec.fit(window=10, min_count=1)"
      ],
      "execution_count": null,
      "outputs": [
        {
          "output_type": "display_data",
          "data": {
            "application/vnd.jupyter.widget-view+json": {
              "model_id": "47b1fb20165747b198988317fa7820d4",
              "version_minor": 0,
              "version_major": 2
            },
            "text/plain": [
              "Computing transition probabilities:   0%|          | 0/2708 [00:00<?, ?it/s]"
            ]
          },
          "metadata": {}
        },
        {
          "output_type": "stream",
          "name": "stderr",
          "text": [
            "Generating walks (CPU: 1): 100%|██████████| 100/100 [03:00<00:00,  1.81s/it]\n"
          ]
        }
      ]
    },
    {
      "cell_type": "code",
      "metadata": {
        "id": "J7aVLmqpltCI"
      },
      "source": [
        "node2vec_feature = np.empty((len(G.nodes()), 100))\n",
        "for v in G.nodes():\n",
        "  node2vec_feature[v] = model.wv[str(v)]"
      ],
      "execution_count": null,
      "outputs": []
    },
    {
      "cell_type": "markdown",
      "metadata": {
        "id": "l8vv9cU8xrPB"
      },
      "source": [
        "Generate new train/val/test"
      ]
    },
    {
      "cell_type": "code",
      "metadata": {
        "id": "6C__SAQ7xR9L"
      },
      "source": [
        "x_train_w2v = np.concatenate([x_train, node2vec_feature[train_mask]], axis=1)\n",
        "x_test_w2v = np.concatenate([x_test, node2vec_feature[test_mask]], axis=1)\n",
        "x_val_w2v = np.concatenate([x_val, node2vec_feature[val_mask]], axis=1)"
      ],
      "execution_count": null,
      "outputs": []
    },
    {
      "cell_type": "code",
      "metadata": {
        "colab": {
          "base_uri": "https://localhost:8080/"
        },
        "id": "TAIJ8KmCxvmh",
        "outputId": "2f192d7f-92d6-4a6a-afeb-4952ba752de5"
      },
      "source": [
        "xg = GradientBoostingClassifier(n_estimators=130, learning_rate=0.07, max_depth=2, random_state=5)\n",
        "xg.fit(x_train_w2v, np.argmax(y_train, axis=1))\n",
        "\n",
        "pred = xg.predict(x_test_w2v)\n",
        "report = classification_report(y_true=np.argmax(y_test, axis=1), y_pred=pred)\n",
        "print(report)"
      ],
      "execution_count": null,
      "outputs": [
        {
          "output_type": "stream",
          "name": "stdout",
          "text": [
            "              precision    recall  f1-score   support\n",
            "\n",
            "           0       0.60      0.60      0.60       130\n",
            "           1       0.74      0.78      0.76        91\n",
            "           2       0.85      0.88      0.87       144\n",
            "           3       0.84      0.60      0.70       319\n",
            "           4       0.65      0.66      0.66       149\n",
            "           5       0.53      0.74      0.62       103\n",
            "           6       0.46      0.75      0.57        64\n",
            "\n",
            "    accuracy                           0.69      1000\n",
            "   macro avg       0.67      0.72      0.68      1000\n",
            "weighted avg       0.72      0.69      0.69      1000\n",
            "\n"
          ]
        }
      ]
    },
    {
      "cell_type": "code",
      "metadata": {
        "colab": {
          "base_uri": "https://localhost:8080/"
        },
        "id": "lAR4PNJw8m3j",
        "outputId": "059234a5-9933-4e80-81f5-94f1becabbdb"
      },
      "source": [
        "scores = cross_val_score(xg, X_all, np.argmax(y_all, axis=1), cv=5)\n",
        "np.mean(scores)"
      ],
      "execution_count": null,
      "outputs": [
        {
          "output_type": "execute_result",
          "data": {
            "text/plain": [
              "0.7625"
            ]
          },
          "metadata": {},
          "execution_count": 418
        }
      ]
    },
    {
      "cell_type": "markdown",
      "metadata": {
        "id": "lZrTadit8VGv"
      },
      "source": [
        "+3% accuracy gain to test! But -1% in CV validation"
      ]
    },
    {
      "cell_type": "code",
      "metadata": {
        "colab": {
          "base_uri": "https://localhost:8080/"
        },
        "id": "JiTXkne_78cX",
        "outputId": "cc9000b7-72c5-4c43-d3c7-cc3ab1b4604c"
      },
      "source": [
        "RT = RandomForestClassifier(max_depth=20, n_estimators=40, random_state=5)\n",
        "RT.fit(x_train_w2v, np.argmax(y_train, axis=1))\n",
        "\n",
        "pred = RT.predict(x_test_w2v)\n",
        "report = classification_report(y_true=np.argmax(y_test, axis=1), y_pred=pred)\n",
        "print(report)"
      ],
      "execution_count": null,
      "outputs": [
        {
          "output_type": "stream",
          "name": "stdout",
          "text": [
            "              precision    recall  f1-score   support\n",
            "\n",
            "           0       0.65      0.72      0.69       130\n",
            "           1       0.71      0.77      0.74        91\n",
            "           2       0.73      0.88      0.80       144\n",
            "           3       0.83      0.46      0.60       319\n",
            "           4       0.59      0.76      0.66       149\n",
            "           5       0.64      0.65      0.64       103\n",
            "           6       0.39      0.66      0.49        64\n",
            "\n",
            "    accuracy                           0.66      1000\n",
            "   macro avg       0.65      0.70      0.66      1000\n",
            "weighted avg       0.70      0.66      0.66      1000\n",
            "\n"
          ]
        }
      ]
    },
    {
      "cell_type": "code",
      "metadata": {
        "colab": {
          "base_uri": "https://localhost:8080/"
        },
        "id": "8ZHVpgBN8jd8",
        "outputId": "b2061c32-7036-4e5b-8cc1-0fb8505a9851"
      },
      "source": [
        "scores = cross_val_score(RT, X_all, np.argmax(y_all, axis=1), cv=5)\n",
        "np.mean(scores)"
      ],
      "execution_count": null,
      "outputs": [
        {
          "output_type": "execute_result",
          "data": {
            "text/plain": [
              "0.725"
            ]
          },
          "metadata": {},
          "execution_count": 412
        }
      ]
    },
    {
      "cell_type": "markdown",
      "metadata": {
        "id": "3jsO7wHy8Y_R"
      },
      "source": [
        "no changes for Random Trees "
      ]
    },
    {
      "cell_type": "markdown",
      "metadata": {
        "id": "6H6Vfp3HnUEK"
      },
      "source": [
        "## Conclusion"
      ]
    },
    {
      "cell_type": "markdown",
      "metadata": {
        "id": "Zd9tHZU7nWqm"
      },
      "source": [
        "We got acquainted with the methods of classifying nodes in a graph without using SOTA GCNs and GANs. We collected manual features including shortest paths matrix, centrality degree and tried node2vec method. We trained XGboost, random forest classifier and MLP neural network\n",
        "\n",
        "---\n",
        "The results:\n",
        "\n",
        "*   Random trees classifier achieved 66% test accuracy and 72.5% CV accuracy\n",
        "*   XGBoost achieved 69% test accuracy and 78% CV accuracy\n",
        "*   MLP achieved only 16-17% accuracy\n",
        "\n",
        "\n",
        "\n",
        "\n"
      ]
    }
  ]
}